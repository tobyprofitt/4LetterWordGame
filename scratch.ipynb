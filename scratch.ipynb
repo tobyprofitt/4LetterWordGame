{
 "cells": [
  {
   "cell_type": "code",
   "execution_count": 44,
   "metadata": {},
   "outputs": [],
   "source": [
    "import random\n",
    "from collections import defaultdict, deque\n",
    "import pickle\n",
    "import matplotlib.pyplot as plt\n",
    "import numpy as np\n",
    "import seaborn as sns\n",
    "import time\n",
    "\n",
    "WORDS_PATH = 'wordsdetail2.txt'\n",
    "GRAPH_PATH = 'wordsdetail_graph.pkl'"
   ]
  },
  {
   "cell_type": "code",
   "execution_count": 45,
   "metadata": {},
   "outputs": [],
   "source": [
    "def load_words(path):\n",
    "    if not path:\n",
    "        path = WORDS_PATH\n",
    "    with open(path) as f:\n",
    "        res = f.readlines()\n",
    "\n",
    "    words = []\n",
    "    for line in res:\n",
    "        for word in line.split(','):\n",
    "            word = word.strip().replace('\"', '')\n",
    "            if len(word) != 4:\n",
    "                continue\n",
    "            words.append(word)\n",
    "    # remove '' from words\n",
    "    words = [word for word in words if word != '']\n",
    "    return words"
   ]
  },
  {
   "cell_type": "code",
   "execution_count": 46,
   "metadata": {},
   "outputs": [],
   "source": [
    "# Step 1: Load the Word List\n",
    "# For testing purposes, let's use a small word list.\n",
    "words = load_words('wordsdetail2.txt')\n",
    "\n",
    "# Function to check if two words can be rearranged to form each other\n",
    "def can_rearrange(word1, word2):\n",
    "    return sorted(word1) == sorted(word2)\n",
    "\n",
    "# Function to check if two words differ by only one letter\n",
    "def one_letter_diff(word1, word2):\n",
    "    if len(word1) != len(word2):\n",
    "        return False\n",
    "    diff_count = sum(1 for a, b in zip(word1, word2) if a != b)\n",
    "    return diff_count == 1\n",
    "\n",
    "def get_graph(words):\n",
    "    # Build the word graph\n",
    "    graph = defaultdict(list)\n",
    "    for i, word1 in enumerate(words):\n",
    "        for j, word2 in enumerate(words):\n",
    "            if i != j and (one_letter_diff(word1, word2) or can_rearrange(word1, word2)):\n",
    "                graph[word1].append(word2)\n",
    "    return graph"
   ]
  },
  {
   "cell_type": "code",
   "execution_count": 38,
   "metadata": {},
   "outputs": [],
   "source": [
    "# SAVE GRAPH\n",
    "# graph = get_graph(words)\n",
    "# with open(GRAPH_PATH, 'wb') as f:\n",
    "#    pickle.dump(graph, f)"
   ]
  },
  {
   "cell_type": "code",
   "execution_count": 47,
   "metadata": {},
   "outputs": [],
   "source": [
    "# load graph\n",
    "def load_graph(path):\n",
    "    if not path:\n",
    "        path = GRAPH_PATH\n",
    "    with open(path, \"rb\") as file:\n",
    "        graph = pickle.load(file)\n",
    "    return graph\n",
    "graph = load_graph(GRAPH_PATH)\n"
   ]
  },
  {
   "cell_type": "code",
   "execution_count": 48,
   "metadata": {},
   "outputs": [
    {
     "name": "stdout",
     "output_type": "stream",
     "text": [
      "Number of components: 1\n",
      "3944\n"
     ]
    }
   ],
   "source": [
    "# how many components in the graph\n",
    "def get_components(graph):\n",
    "    visited = set()\n",
    "    components = []\n",
    "    for word in graph:\n",
    "        if word not in visited:\n",
    "            component = set()\n",
    "            queue = deque([word])\n",
    "            while queue:\n",
    "                word = queue.popleft()\n",
    "                if word not in visited:\n",
    "                    visited.add(word)\n",
    "                    component.add(word)\n",
    "                    queue.extend(graph[word])\n",
    "            components.append(component)\n",
    "    return components\n",
    "components = get_components(graph)\n",
    "print('Number of components: {}'.format(len(components)))\n",
    "for c in components:\n",
    "    print(len(c))\n",
    "\n",
    "for c in components[1:]:\n",
    "    print(c)\n"
   ]
  },
  {
   "cell_type": "code",
   "execution_count": 49,
   "metadata": {},
   "outputs": [],
   "source": [
    "def find_shortest_path(graph, start, end):\n",
    "    \"\"\"\n",
    "    Find the shortest path between start and end words using BFS.\n",
    "    \"\"\"\n",
    "    visited = set()\n",
    "    queue = deque([(start, [start])])  # Each element in the queue is a tuple (current_word, path_so_far)\n",
    "\n",
    "    while queue:\n",
    "        current_word, path = queue.popleft()\n",
    "\n",
    "        # If the current word is the end word, we've found a path\n",
    "        if current_word == end:\n",
    "            return path\n",
    "\n",
    "        # Mark the current word as visited\n",
    "        visited.add(current_word)\n",
    "\n",
    "        # Add all neighboring words to the queue, if they haven't been visited yet\n",
    "        for neighbor in graph[current_word]:\n",
    "            if neighbor not in visited:\n",
    "                queue.append((neighbor, path + [neighbor]))\n",
    "\n",
    "    # If we reach here, it means there's no path from start to end\n",
    "    return None\n",
    "\n",
    "# Test the function\n",
    "start_word = \"PFFT\"\n",
    "end_word = \"SEAT\"\n",
    "path = find_shortest_path(graph, start_word, end_word)\n",
    "path"
   ]
  },
  {
   "cell_type": "code",
   "execution_count": 52,
   "metadata": {},
   "outputs": [
    {
     "name": "stderr",
     "output_type": "stream",
     "text": [
      "<ipython-input-52-62571998324e>:5: DeprecationWarning: Sampling from a set deprecated\n",
      "since Python 3.9 and will be removed in a subsequent version.\n",
      "  start_word, end_word = random.sample(graph.keys(), 2)\n"
     ]
    },
    {
     "data": {
      "image/png": "[encoded data removed]",
      "text/plain": [
       "<Figure size 432x288 with 1 Axes>"
      ]
     },
     "metadata": {
      "needs_background": "light"
     },
     "output_type": "display_data"
    }
   ],
   "source": [
    "# sample 10000 pairs and plot the distribution of path lengths\n",
    "def sample_path_lengths(graph, n_samples=1000):\n",
    "    path_lengths = []\n",
    "    for _ in range(n_samples):\n",
    "        start_word, end_word = random.sample(graph.keys(), 2)\n",
    "        path = find_shortest_path(graph, start_word, end_word)\n",
    "        path_lengths.append(len(path))\n",
    "    return path_lengths\n",
    "\n",
    "path_lengths = sample_path_lengths(graph)\n",
    "sns.distplot(path_lengths, kde=False)\n",
    "plt.xlabel(\"Path Length\")\n",
    "plt.ylabel(\"Frequency\")\n",
    "plt.title(\"Distribution of Path Lengths\")\n",
    "plt.show()"
   ]
  },
  {
   "cell_type": "code",
   "execution_count": 79,
   "metadata": {},
   "outputs": [
    {
     "name": "stdout",
     "output_type": "stream",
     "text": [
      "Welcome to the 4-Letter Word Path Game!\n",
      "Your goal is to change the starting word to the ending word, one letter at a time, forming valid words along the way.\n",
      "You can also rearrange the letters to form a new word. Let's begin!\n",
      "==================================================\n",
      "loading graph...\n",
      "graph loaded in 0.08156919479370117 seconds\n",
      "Starting word: DIVA\n",
      "Target word: CHOC\n",
      "==================================================\n",
      "Invalid transition. Try again.\n",
      "Invalid transition. Try again.\n",
      "Invalid transition. Try again.\n",
      "Invalid transition. Try again.\n",
      "Invalid transition. Try again.\n",
      "Invalid transition. Try again.\n",
      "Game ended.\n",
      "Congratulations! You reached the target word.\n",
      "Optimal Path: DIVA -> AVID -> ACID -> CAID -> CHID -> CHIC -> CHOC\n",
      "Optimal Score: 6\n"
     ]
    }
   ],
   "source": [
    "def game_sequence():\n",
    "    # Introduction\n",
    "    print(\"Welcome to the 4-Letter Word Path Game!\")\n",
    "    print(\"Your goal is to change the starting word to the ending word, one letter at a time, forming valid words along the way.\")\n",
    "    print(\"You can also rearrange the letters to form a new word. Let's begin!\")\n",
    "    print(\"=\"*50)\n",
    "    \n",
    "    words = load_words('scrabble_words.txt')\n",
    "    start_time = time.time()\n",
    "    print('loading graph...')\n",
    "    graph = load_graph(GRAPH_PATH)\n",
    "    print('graph loaded in {} seconds'.format(time.time() - start_time))\n",
    "\n",
    "    # Randomly select start and end words\n",
    "    start_word = random.choice(words)\n",
    "    end_word = random.choice(words)\n",
    "    while start_word == end_word:\n",
    "        end_word = random.choice(words)\n",
    "\n",
    "    history = [start_word]\n",
    "    score = 0\n",
    "\n",
    "    print(f\"Starting word: {start_word}\")\n",
    "    print(f\"Target word: {end_word}\")\n",
    "    print(\"=\"*50)\n",
    "\n",
    "    while True:\n",
    "        next_word = input(\"Enter the next word in the sequence: \").upper().strip()\n",
    "        if next_word in ('ESCAPE', 'ENTER'):\n",
    "            print(\"Game ended.\")\n",
    "            optimal_path = find_shortest_path(graph, start_word, end_word)\n",
    "            print(f\"Optimal Path: {' -> '.join(optimal_path)}\")\n",
    "            print(f\"Optimal Score: {len(optimal_path)-1}\")\n",
    "            break\n",
    "\n",
    "        # Check if the word is valid\n",
    "        if next_word in graph[history[-1]]:\n",
    "            history.append(next_word)\n",
    "            score += 1\n",
    "        else:\n",
    "            print(\"Invalid transition. Try again.\")\n",
    "            continue\n",
    "\n",
    "        # Display history, score, and target word\n",
    "        print(\"\\nWord History:\")\n",
    "        print(\" -> \".join(history))\n",
    "        print(f\"\\nCumulative Score: {score}\")\n",
    "        print(f\"Target Word: {end_word}\\n\")\n",
    "        print(\"=\"*50)\n",
    "\n",
    "        # Check for game completion\n",
    "        if next_word == end_word:\n",
    "            optimal_path = find_shortest_path(graph, start_word, end_word)\n",
    "            print(f\"Congratulations! You reached the target word.\")\n",
    "            print(f\"Optimal Path: {' -> '.join(optimal_path)}\")\n",
    "            print(f\"Optimal Score: {len(optimal_path)-1}\")\n",
    "            break\n",
    "\n",
    "# Display the game code for the user to run in their local environment\n",
    "game_sequence()"
   ]
  },
  {
   "cell_type": "code",
   "execution_count": 65,
   "metadata": {},
   "outputs": [
    {
     "data": {
      "image/png": "[encoded data removed]",
      "text/plain": [
       "<Figure size 864x576 with 1 Axes>"
      ]
     },
     "metadata": {},
     "output_type": "display_data"
    }
   ],
   "source": [
    "# find all the distances from a word to all other words, and the max distance\n",
    "def get_distances(graph, start):\n",
    "    visited = set()\n",
    "    distances = {start: 0}\n",
    "    queue = deque([start])\n",
    "    max = 0\n",
    "    while queue:\n",
    "        word = queue.popleft()\n",
    "        if word not in visited:\n",
    "            visited.add(word)\n",
    "            for neighbor in graph[word]:\n",
    "                if neighbor not in visited:\n",
    "                    queue.append(neighbor)\n",
    "                    distances[neighbor] = distances[word] + 1\n",
    "                    if distances[neighbor] > max:\n",
    "                        max = distances[neighbor]\n",
    "                        max_word = neighbor\n",
    "    return distances, max, max_word\n",
    "\n",
    "distances, max, max_word = get_distances(graph, 'AIDE')\n",
    "\n",
    "# plot distances in a histogram\n",
    "sns.set()\n",
    "\n",
    "def plot_distances(graph, start):\n",
    "    distances, max, max_word = get_distances(graph, start)\n",
    "    values = np.array(list(distances.values()))\n",
    "    plt.figure(figsize=(12, 8))\n",
    "    plt.hist(values, bins=max)\n",
    "    plt.xlabel('Distance')\n",
    "    plt.ylabel('Count')\n",
    "    plt.title('Distance Histogram')\n",
    "    plt.show()\n",
    "\n",
    "plot_distances(graph, 'AIDE')"
   ]
  },
  {
   "cell_type": "code",
   "execution_count": 92,
   "metadata": {},
   "outputs": [],
   "source": [
    "# Step 1: Open the source text file in read mode\n",
    "with open('wordsdetail.txt', 'r') as infile:\n",
    "    # Step 2: Read the content of the file\n",
    "    content = infile.read()\n",
    "\n",
    "# Step 3: Split the content by whitespace to get a list of words\n",
    "words = content.split()\n",
    "\n",
    "# Step 4: Open a new text file in write mode\n",
    "with open('wordsdetail2.txt', 'w') as outfile:\n",
    "    # Step 5: Iterate through the list of words,\n",
    "    # writing each word to a new line in the new file\n",
    "    for word in words:\n",
    "        outfile.write(word.upper() + '\\n')\n",
    "\n",
    "# Step 6: Both files are closed automatically by the 'with' statement\n"
   ]
  },
  {
   "cell_type": "code",
   "execution_count": 43,
   "metadata": {},
   "outputs": [
    {
     "data": {
      "text/plain": [
       "[['NICK', 'KICK', 'KINK', 'KING']]"
      ]
     },
     "execution_count": 43,
     "metadata": {},
     "output_type": "execute_result"
    }
   ],
   "source": [
    "# Write a function that will calculate how many shortests paths there are from a word to another word and return all the paths\n",
    "def get_num_shortest_paths(graph, start, end):\n",
    "    visited = set()\n",
    "    paths = []\n",
    "    queue = deque([(start, [start])])  # Each element in the queue is a tuple (current_word, path_so_far)\n",
    "\n",
    "    while queue:\n",
    "        current_word, path = queue.popleft()\n",
    "\n",
    "        # If the current word is the end word, we've found a path\n",
    "        if current_word == end:\n",
    "            paths.append(path)\n",
    "\n",
    "        # Mark the current word as visited\n",
    "        visited.add(current_word)\n",
    "\n",
    "        # Add all neighboring words to the queue, if they haven't been visited yet\n",
    "        for neighbor in graph[current_word]:\n",
    "            if neighbor not in visited:\n",
    "                queue.append((neighbor, path + [neighbor]))\n",
    "\n",
    "    # Get all shortest paths\n",
    "    shortest_paths = []\n",
    "    min_length = min(len(path) for path in paths)\n",
    "    for path in paths:\n",
    "        if len(path) == min_length:\n",
    "            shortest_paths.append(path)\n",
    "\n",
    "    # If we reach here, it means there's no path from start to end\n",
    "    return shortest_paths\n",
    "\n",
    "# Test the function\n",
    "graph = load_graph('wordsdetail_graph.pkl')\n",
    "start_word = 'NICK'\n",
    "end_word = 'KING'\n",
    "num_shortest_paths = get_num_shortest_paths(graph, start_word, end_word)\n",
    "num_shortest_paths"
   ]
  },
  {
   "cell_type": "markdown",
   "metadata": {},
   "source": [
    "Now I want to investigate how adding frequencies to words can add weights to the graph."
   ]
  },
  {
   "cell_type": "code",
   "execution_count": 40,
   "metadata": {},
   "outputs": [],
   "source": [
    "from nltk.corpus import brown\n",
    "from collections import Counter\n",
    "import re\n",
    "\n",
    "# Get all words from the Brown corpus\n",
    "words = brown.words()\n",
    "\n",
    "# Count the frequency of each word\n",
    "word_freq = Counter(words)\n",
    "\n",
    "# Filter out words that aren't 4 letters long and are not purely alphabetic\n",
    "four_letter_word_freq = {word.upper(): freq for word, freq in word_freq.items() if len(word) == 4 and word.isalpha()}\n"
   ]
  },
  {
   "cell_type": "code",
   "execution_count": 18,
   "metadata": {},
   "outputs": [
    {
     "data": {
      "text/plain": [
       "2318"
      ]
     },
     "execution_count": 18,
     "metadata": {},
     "output_type": "execute_result"
    }
   ],
   "source": [
    "len(four_letter_word_freq.keys())"
   ]
  },
  {
   "cell_type": "code",
   "execution_count": 42,
   "metadata": {},
   "outputs": [],
   "source": [
    "words = load_words('wordsdetail2.txt')\n",
    "\n",
    "# create a dictionary of words and their frequencies, using four_letter_word_freq and defaulting to 1 if the word is not in four_letter_word_freq\n",
    "word_freq = {word: four_letter_word_freq.get(word, 1) for word in words}\n",
    "\n",
    "# save to json file\n",
    "import json\n",
    "with open('word_freq.json', 'w') as f:\n",
    "    json.dump(word_freq, f)"
   ]
  }
 ],
 "metadata": {
  "kernelspec": {
   "display_name": "Python 3",
   "language": "python",
   "name": "python3"
  },
  "language_info": {
   "codemirror_mode": {
    "name": "ipython",
    "version": 3
   },
   "file_extension": ".py",
   "mimetype": "text/x-python",
   "name": "python",
   "nbconvert_exporter": "python",
   "pygments_lexer": "ipython3",
   "version": "3.9.0"
  }
 },
 "nbformat": 4,
 "nbformat_minor": 2
}
