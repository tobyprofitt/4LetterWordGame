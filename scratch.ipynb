{
 "cells": [
  {
   "cell_type": "code",
   "execution_count": 2,
   "metadata": {},
   "outputs": [],
   "source": [
    "import random\n",
    "from collections import defaultdict, deque\n",
    "import pickle\n",
    "import matplotlib.pyplot as plt\n",
    "import numpy as np\n",
    "import seaborn as sns\n",
    "import time\n",
    "\n",
    "WORDS_PATH = 'word.txt'\n",
    "GRAPH_PATH = 'wordsdetail_graph.pkl'"
   ]
  },
  {
   "cell_type": "code",
   "execution_count": 3,
   "metadata": {},
   "outputs": [],
   "source": [
    "def load_words(path):\n",
    "    if not path:\n",
    "        path = WORDS_PATH\n",
    "    with open(path) as f:\n",
    "        res = f.readlines()\n",
    "\n",
    "    words = []\n",
    "    for line in res:\n",
    "        for word in line.split(','):\n",
    "            word = word.strip().replace('\"', '')\n",
    "            if len(word) != 4:\n",
    "                continue\n",
    "            words.append(word)\n",
    "    # remove '' from words\n",
    "    words = [word for word in words if word != '']\n",
    "    return words"
   ]
  },
  {
   "cell_type": "code",
   "execution_count": 5,
   "metadata": {},
   "outputs": [
    {
     "ename": "KeyboardInterrupt",
     "evalue": "",
     "output_type": "error",
     "traceback": [
      "\u001b[1;31m---------------------------------------------------------------------------\u001b[0m",
      "\u001b[1;31mKeyboardInterrupt\u001b[0m                         Traceback (most recent call last)",
      "\u001b[1;32m<ipython-input-5-38f2356c3475>\u001b[0m in \u001b[0;36m<module>\u001b[1;34m\u001b[0m\n\u001b[0;32m     23\u001b[0m     \u001b[1;32mreturn\u001b[0m \u001b[0mgraph\u001b[0m\u001b[1;33m\u001b[0m\u001b[1;33m\u001b[0m\u001b[0m\n\u001b[0;32m     24\u001b[0m \u001b[1;33m\u001b[0m\u001b[0m\n\u001b[1;32m---> 25\u001b[1;33m \u001b[0mgraph\u001b[0m \u001b[1;33m=\u001b[0m \u001b[0mget_graph\u001b[0m\u001b[1;33m(\u001b[0m\u001b[0mwords\u001b[0m\u001b[1;33m)\u001b[0m\u001b[1;33m\u001b[0m\u001b[1;33m\u001b[0m\u001b[0m\n\u001b[0m",
      "\u001b[1;32m<ipython-input-5-38f2356c3475>\u001b[0m in \u001b[0;36mget_graph\u001b[1;34m(words)\u001b[0m\n\u001b[0;32m     19\u001b[0m     \u001b[1;32mfor\u001b[0m \u001b[0mi\u001b[0m\u001b[1;33m,\u001b[0m \u001b[0mword1\u001b[0m \u001b[1;32min\u001b[0m \u001b[0menumerate\u001b[0m\u001b[1;33m(\u001b[0m\u001b[0mwords\u001b[0m\u001b[1;33m)\u001b[0m\u001b[1;33m:\u001b[0m\u001b[1;33m\u001b[0m\u001b[1;33m\u001b[0m\u001b[0m\n\u001b[0;32m     20\u001b[0m         \u001b[1;32mfor\u001b[0m \u001b[0mj\u001b[0m\u001b[1;33m,\u001b[0m \u001b[0mword2\u001b[0m \u001b[1;32min\u001b[0m \u001b[0menumerate\u001b[0m\u001b[1;33m(\u001b[0m\u001b[0mwords\u001b[0m\u001b[1;33m)\u001b[0m\u001b[1;33m:\u001b[0m\u001b[1;33m\u001b[0m\u001b[1;33m\u001b[0m\u001b[0m\n\u001b[1;32m---> 21\u001b[1;33m             \u001b[1;32mif\u001b[0m \u001b[0mi\u001b[0m \u001b[1;33m!=\u001b[0m \u001b[0mj\u001b[0m \u001b[1;32mand\u001b[0m \u001b[1;33m(\u001b[0m\u001b[0mone_letter_diff\u001b[0m\u001b[1;33m(\u001b[0m\u001b[0mword1\u001b[0m\u001b[1;33m,\u001b[0m \u001b[0mword2\u001b[0m\u001b[1;33m)\u001b[0m \u001b[1;32mor\u001b[0m \u001b[0mcan_rearrange\u001b[0m\u001b[1;33m(\u001b[0m\u001b[0mword1\u001b[0m\u001b[1;33m,\u001b[0m \u001b[0mword2\u001b[0m\u001b[1;33m)\u001b[0m\u001b[1;33m)\u001b[0m\u001b[1;33m:\u001b[0m\u001b[1;33m\u001b[0m\u001b[1;33m\u001b[0m\u001b[0m\n\u001b[0m\u001b[0;32m     22\u001b[0m                 \u001b[0mgraph\u001b[0m\u001b[1;33m[\u001b[0m\u001b[0mword1\u001b[0m\u001b[1;33m]\u001b[0m\u001b[1;33m.\u001b[0m\u001b[0mappend\u001b[0m\u001b[1;33m(\u001b[0m\u001b[0mword2\u001b[0m\u001b[1;33m)\u001b[0m\u001b[1;33m\u001b[0m\u001b[1;33m\u001b[0m\u001b[0m\n\u001b[0;32m     23\u001b[0m     \u001b[1;32mreturn\u001b[0m \u001b[0mgraph\u001b[0m\u001b[1;33m\u001b[0m\u001b[1;33m\u001b[0m\u001b[0m\n",
      "\u001b[1;32m<ipython-input-5-38f2356c3475>\u001b[0m in \u001b[0;36mone_letter_diff\u001b[1;34m(word1, word2)\u001b[0m\n\u001b[0;32m     11\u001b[0m     \u001b[1;32mif\u001b[0m \u001b[0mlen\u001b[0m\u001b[1;33m(\u001b[0m\u001b[0mword1\u001b[0m\u001b[1;33m)\u001b[0m \u001b[1;33m!=\u001b[0m \u001b[0mlen\u001b[0m\u001b[1;33m(\u001b[0m\u001b[0mword2\u001b[0m\u001b[1;33m)\u001b[0m\u001b[1;33m:\u001b[0m\u001b[1;33m\u001b[0m\u001b[1;33m\u001b[0m\u001b[0m\n\u001b[0;32m     12\u001b[0m         \u001b[1;32mreturn\u001b[0m \u001b[1;32mFalse\u001b[0m\u001b[1;33m\u001b[0m\u001b[1;33m\u001b[0m\u001b[0m\n\u001b[1;32m---> 13\u001b[1;33m     \u001b[0mdiff_count\u001b[0m \u001b[1;33m=\u001b[0m \u001b[0msum\u001b[0m\u001b[1;33m(\u001b[0m\u001b[1;36m1\u001b[0m \u001b[1;32mfor\u001b[0m \u001b[0ma\u001b[0m\u001b[1;33m,\u001b[0m \u001b[0mb\u001b[0m \u001b[1;32min\u001b[0m \u001b[0mzip\u001b[0m\u001b[1;33m(\u001b[0m\u001b[0mword1\u001b[0m\u001b[1;33m,\u001b[0m \u001b[0mword2\u001b[0m\u001b[1;33m)\u001b[0m \u001b[1;32mif\u001b[0m \u001b[0ma\u001b[0m \u001b[1;33m!=\u001b[0m \u001b[0mb\u001b[0m\u001b[1;33m)\u001b[0m\u001b[1;33m\u001b[0m\u001b[1;33m\u001b[0m\u001b[0m\n\u001b[0m\u001b[0;32m     14\u001b[0m     \u001b[1;32mreturn\u001b[0m \u001b[0mdiff_count\u001b[0m \u001b[1;33m==\u001b[0m \u001b[1;36m1\u001b[0m\u001b[1;33m\u001b[0m\u001b[1;33m\u001b[0m\u001b[0m\n\u001b[0;32m     15\u001b[0m \u001b[1;33m\u001b[0m\u001b[0m\n",
      "\u001b[1;31mKeyboardInterrupt\u001b[0m: "
     ]
    }
   ],
   "source": [
    "# Step 1: Load the Word List\n",
    "# For testing purposes, let's use a small word list.\n",
    "words = load_words('scrabble_words.txt')\n",
    "\n",
    "# Function to check if two words can be rearranged to form each other\n",
    "def can_rearrange(word1, word2):\n",
    "    return sorted(word1) == sorted(word2)\n",
    "\n",
    "# Function to check if two words differ by only one letter\n",
    "def one_letter_diff(word1, word2):\n",
    "    if len(word1) != len(word2):\n",
    "        return False\n",
    "    diff_count = sum(1 for a, b in zip(word1, word2) if a != b)\n",
    "    return diff_count == 1\n",
    "\n",
    "def get_graph(words):\n",
    "    # Build the word graph\n",
    "    graph = defaultdict(list)\n",
    "    for i, word1 in enumerate(words):\n",
    "        for j, word2 in enumerate(words):\n",
    "            if i != j and (one_letter_diff(word1, word2) or can_rearrange(word1, word2)):\n",
    "                graph[word1].append(word2)\n",
    "    return graph\n",
    "\n",
    "graph = get_graph(words)"
   ]
  },
  {
   "cell_type": "code",
   "execution_count": 25,
   "metadata": {},
   "outputs": [],
   "source": [
    "with open(\"word_graph.pkl\", \"wb\") as file:\n",
    "    pickle.dump(graph, file)"
   ]
  },
  {
   "cell_type": "code",
   "execution_count": 4,
   "metadata": {},
   "outputs": [],
   "source": [
    "# load graph\n",
    "def load_graph(path):\n",
    "    if not path:\n",
    "        path = GRAPH_PATH\n",
    "    with open(path, \"rb\") as file:\n",
    "        graph = pickle.load(file)\n",
    "    return graph\n",
    "graph = load_graph(GRAPH_PATH)\n"
   ]
  },
  {
   "cell_type": "code",
   "execution_count": 30,
   "metadata": {},
   "outputs": [
    {
     "name": "stdout",
     "output_type": "stream",
     "text": [
      "Number of components: 3\n",
      "5603\n",
      "3\n",
      "2\n",
      "{'PTUI', 'ETUI', 'PFUI'}\n",
      "{'ONYX', 'ORYX'}\n"
     ]
    }
   ],
   "source": [
    "# how many components in the graph\n",
    "def get_components(graph):\n",
    "    visited = set()\n",
    "    components = []\n",
    "    for word in graph:\n",
    "        if word not in visited:\n",
    "            component = set()\n",
    "            queue = deque([word])\n",
    "            while queue:\n",
    "                word = queue.popleft()\n",
    "                if word not in visited:\n",
    "                    visited.add(word)\n",
    "                    component.add(word)\n",
    "                    queue.extend(graph[word])\n",
    "            components.append(component)\n",
    "    return components\n",
    "components = get_components(graph)\n",
    "print('Number of components: {}'.format(len(components)))\n",
    "for c in components:\n",
    "    print(len(c))\n",
    "\n",
    "for c in components[1:]:\n",
    "    print(c)\n"
   ]
  },
  {
   "cell_type": "code",
   "execution_count": 6,
   "metadata": {},
   "outputs": [
    {
     "data": {
      "text/plain": [
       "['aide', 'ride', 'rode', 'code', 'coda', 'soda']"
      ]
     },
     "execution_count": 6,
     "metadata": {},
     "output_type": "execute_result"
    }
   ],
   "source": [
    "def find_shortest_path(graph, start, end):\n",
    "    \"\"\"\n",
    "    Find the shortest path between start and end words using BFS.\n",
    "    \"\"\"\n",
    "    visited = set()\n",
    "    queue = deque([(start, [start])])  # Each element in the queue is a tuple (current_word, path_so_far)\n",
    "\n",
    "    while queue:\n",
    "        current_word, path = queue.popleft()\n",
    "\n",
    "        # If the current word is the end word, we've found a path\n",
    "        if current_word == end:\n",
    "            return path\n",
    "\n",
    "        # Mark the current word as visited\n",
    "        visited.add(current_word)\n",
    "\n",
    "        # Add all neighboring words to the queue, if they haven't been visited yet\n",
    "        for neighbor in graph[current_word]:\n",
    "            if neighbor not in visited:\n",
    "                queue.append((neighbor, path + [neighbor]))\n",
    "\n",
    "    # If we reach here, it means there's no path from start to end\n",
    "    return None\n",
    "\n",
    "# Test the function\n",
    "start_word = \"aide\"\n",
    "end_word = \"soda\"\n",
    "path = find_shortest_path(graph, start_word, end_word)\n",
    "path"
   ]
  },
  {
   "cell_type": "code",
   "execution_count": 79,
   "metadata": {},
   "outputs": [
    {
     "name": "stdout",
     "output_type": "stream",
     "text": [
      "Welcome to the 4-Letter Word Path Game!\n",
      "Your goal is to change the starting word to the ending word, one letter at a time, forming valid words along the way.\n",
      "You can also rearrange the letters to form a new word. Let's begin!\n",
      "==================================================\n",
      "loading graph...\n",
      "graph loaded in 0.08156919479370117 seconds\n",
      "Starting word: DIVA\n",
      "Target word: CHOC\n",
      "==================================================\n",
      "Invalid transition. Try again.\n",
      "Invalid transition. Try again.\n",
      "Invalid transition. Try again.\n",
      "Invalid transition. Try again.\n",
      "Invalid transition. Try again.\n",
      "Invalid transition. Try again.\n",
      "Game ended.\n",
      "Congratulations! You reached the target word.\n",
      "Optimal Path: DIVA -> AVID -> ACID -> CAID -> CHID -> CHIC -> CHOC\n",
      "Optimal Score: 6\n"
     ]
    }
   ],
   "source": [
    "def game_sequence():\n",
    "    # Introduction\n",
    "    print(\"Welcome to the 4-Letter Word Path Game!\")\n",
    "    print(\"Your goal is to change the starting word to the ending word, one letter at a time, forming valid words along the way.\")\n",
    "    print(\"You can also rearrange the letters to form a new word. Let's begin!\")\n",
    "    print(\"=\"*50)\n",
    "    \n",
    "    words = load_words('scrabble_words.txt')\n",
    "    start_time = time.time()\n",
    "    print('loading graph...')\n",
    "    graph = load_graph(GRAPH_PATH)\n",
    "    print('graph loaded in {} seconds'.format(time.time() - start_time))\n",
    "\n",
    "    # Randomly select start and end words\n",
    "    start_word = random.choice(words)\n",
    "    end_word = random.choice(words)\n",
    "    while start_word == end_word:\n",
    "        end_word = random.choice(words)\n",
    "\n",
    "    history = [start_word]\n",
    "    score = 0\n",
    "\n",
    "    print(f\"Starting word: {start_word}\")\n",
    "    print(f\"Target word: {end_word}\")\n",
    "    print(\"=\"*50)\n",
    "\n",
    "    while True:\n",
    "        next_word = input(\"Enter the next word in the sequence: \").upper().strip()\n",
    "        if next_word in ('ESCAPE', 'ENTER'):\n",
    "            print(\"Game ended.\")\n",
    "            optimal_path = find_shortest_path(graph, start_word, end_word)\n",
    "            print(f\"Optimal Path: {' -> '.join(optimal_path)}\")\n",
    "            print(f\"Optimal Score: {len(optimal_path)-1}\")\n",
    "            break\n",
    "\n",
    "        # Check if the word is valid\n",
    "        if next_word in graph[history[-1]]:\n",
    "            history.append(next_word)\n",
    "            score += 1\n",
    "        else:\n",
    "            print(\"Invalid transition. Try again.\")\n",
    "            continue\n",
    "\n",
    "        # Display history, score, and target word\n",
    "        print(\"\\nWord History:\")\n",
    "        print(\" -> \".join(history))\n",
    "        print(f\"\\nCumulative Score: {score}\")\n",
    "        print(f\"Target Word: {end_word}\\n\")\n",
    "        print(\"=\"*50)\n",
    "\n",
    "        # Check for game completion\n",
    "        if next_word == end_word:\n",
    "            optimal_path = find_shortest_path(graph, start_word, end_word)\n",
    "            print(f\"Congratulations! You reached the target word.\")\n",
    "            print(f\"Optimal Path: {' -> '.join(optimal_path)}\")\n",
    "            print(f\"Optimal Score: {len(optimal_path)-1}\")\n",
    "            break\n",
    "\n",
    "# Display the game code for the user to run in their local environment\n",
    "game_sequence()"
   ]
  },
  {
   "cell_type": "code",
   "execution_count": 65,
   "metadata": {},
   "outputs": [
    {
     "data": {
      "image/png": "[encoded data removed]",
      "text/plain": [
       "<Figure size 864x576 with 1 Axes>"
      ]
     },
     "metadata": {},
     "output_type": "display_data"
    }
   ],
   "source": [
    "# find all the distances from a word to all other words, and the max distance\n",
    "def get_distances(graph, start):\n",
    "    visited = set()\n",
    "    distances = {start: 0}\n",
    "    queue = deque([start])\n",
    "    max = 0\n",
    "    while queue:\n",
    "        word = queue.popleft()\n",
    "        if word not in visited:\n",
    "            visited.add(word)\n",
    "            for neighbor in graph[word]:\n",
    "                if neighbor not in visited:\n",
    "                    queue.append(neighbor)\n",
    "                    distances[neighbor] = distances[word] + 1\n",
    "                    if distances[neighbor] > max:\n",
    "                        max = distances[neighbor]\n",
    "                        max_word = neighbor\n",
    "    return distances, max, max_word\n",
    "\n",
    "distances, max, max_word = get_distances(graph, 'AIDE')\n",
    "\n",
    "# plot distances in a histogram\n",
    "sns.set()\n",
    "\n",
    "def plot_distances(graph, start):\n",
    "    distances, max, max_word = get_distances(graph, start)\n",
    "    values = np.array(list(distances.values()))\n",
    "    plt.figure(figsize=(12, 8))\n",
    "    plt.hist(values, bins=max)\n",
    "    plt.xlabel('Distance')\n",
    "    plt.ylabel('Count')\n",
    "    plt.title('Distance Histogram')\n",
    "    plt.show()\n",
    "\n",
    "plot_distances(graph, 'AIDE')"
   ]
  },
  {
   "cell_type": "code",
   "execution_count": 92,
   "metadata": {},
   "outputs": [],
   "source": [
    "# Step 1: Open the source text file in read mode\n",
    "with open('wordsdetail.txt', 'r') as infile:\n",
    "    # Step 2: Read the content of the file\n",
    "    content = infile.read()\n",
    "\n",
    "# Step 3: Split the content by whitespace to get a list of words\n",
    "words = content.split()\n",
    "\n",
    "# Step 4: Open a new text file in write mode\n",
    "with open('wordsdetail2.txt', 'w') as outfile:\n",
    "    # Step 5: Iterate through the list of words,\n",
    "    # writing each word to a new line in the new file\n",
    "    for word in words:\n",
    "        outfile.write(word.upper() + '\\n')\n",
    "\n",
    "# Step 6: Both files are closed automatically by the 'with' statement\n"
   ]
  },
  {
   "cell_type": "code",
   "execution_count": 6,
   "metadata": {},
   "outputs": [
    {
     "data": {
      "text/plain": [
       "[['ROAN', 'ROAD', 'READ', 'REED', 'REES', 'RUES'],\n",
       " ['ROAN', 'ROAD', 'READ', 'REED', 'RUED', 'RUES'],\n",
       " ['ROAN', 'KOAN', 'KOAS', 'GOAS', 'GOES', 'ROES', 'RUES'],\n",
       " ['ROAN', 'KOAN', 'KOAS', 'KAAS', 'KAES', 'KUES', 'RUES'],\n",
       " ['ROAN', 'KOAN', 'KOAS', 'KEAS', 'KAES', 'KUES', 'RUES'],\n",
       " ['ROAN', 'KOAN', 'KOAS', 'KOBS', 'ROBS', 'ROES', 'RUES'],\n",
       " ['ROAN', 'KOAN', 'KOAS', 'KOBS', 'ROBS', 'RUBS', 'RUES'],\n",
       " ['ROAN', 'LOAN', 'LEAN', 'LEAS', 'LEES', 'LUES', 'RUES'],\n",
       " ['ROAN', 'LOAN', 'LEAN', 'LEAS', 'LEES', 'REES', 'RUES'],\n",
       " ['ROAN', 'LOAN', 'LORN', 'LORE', 'LURE', 'SURE', 'RUES'],\n",
       " ['ROAN', 'LOAN', 'LORN', 'LORE', 'SORE', 'ROES', 'RUES'],\n",
       " ['ROAN', 'LOAN', 'LORN', 'LORE', 'SORE', 'SURE', 'RUES'],\n",
       " ['ROAN', 'LOAN', 'LORN', 'SORN', 'SORE', 'ROES', 'RUES'],\n",
       " ['ROAN', 'LOAN', 'LORN', 'SORN', 'SORE', 'SURE', 'RUES'],\n",
       " ['ROAN', 'LOAN', 'LOWN', 'LOWS', 'ROWS', 'ROES', 'RUES'],\n",
       " ['ROAN', 'ROAD', 'GOAD', 'GOAS', 'GOES', 'ROES', 'RUES'],\n",
       " ['ROAN', 'ROAD', 'READ', 'DARE', 'DURE', 'RUED', 'RUES'],\n",
       " ['ROAN', 'ROAD', 'READ', 'DARE', 'DURE', 'SURE', 'RUES'],\n",
       " ['ROAN', 'ROAD', 'READ', 'REAL', 'REEL', 'REES', 'RUES'],\n",
       " ['ROAN', 'ROAD', 'READ', 'REDD', 'REDS', 'REES', 'RUES'],\n",
       " ['ROAN', 'ROAD', 'READ', 'REDD', 'REED', 'REES', 'RUES'],\n",
       " ['ROAN', 'ROAD', 'READ', 'REDD', 'REED', 'RUED', 'RUES'],\n",
       " ['ROAN', 'ROAD', 'READ', 'REDD', 'RUDD', 'RUED', 'RUES'],\n",
       " ['ROAN', 'ROAD', 'READ', 'REED', 'REEF', 'REES', 'RUES'],\n",
       " ['ROAN', 'ROAD', 'READ', 'REED', 'REEK', 'REES', 'RUES'],\n",
       " ['ROAN', 'ROAD', 'READ', 'REED', 'REEL', 'REES', 'RUES'],\n",
       " ['ROAN', 'ROAD', 'READ', 'REED', 'REES', 'ROES', 'RUES']]"
      ]
     },
     "execution_count": 6,
     "metadata": {},
     "output_type": "execute_result"
    }
   ],
   "source": [
    "# Write a function that will calculate how many shortests paths there are from a word to another word and return all the paths\n",
    "def get_num_shortest_paths(graph, start, end):\n",
    "    visited = set()\n",
    "    paths = []\n",
    "    queue = deque([(start, [start])])  # Each element in the queue is a tuple (current_word, path_so_far)\n",
    "\n",
    "    while queue:\n",
    "        current_word, path = queue.popleft()\n",
    "\n",
    "        # If the current word is the end word, we've found a path\n",
    "        if current_word == end:\n",
    "            paths.append(path)\n",
    "\n",
    "        # Mark the current word as visited\n",
    "        visited.add(current_word)\n",
    "\n",
    "        # Add all neighboring words to the queue, if they haven't been visited yet\n",
    "        for neighbor in graph[current_word]:\n",
    "            if neighbor not in visited:\n",
    "                queue.append((neighbor, path + [neighbor]))\n",
    "\n",
    "    # If we reach here, it means there's no path from start to end\n",
    "    return paths\n",
    "\n",
    "# Test the function\n",
    "graph = load_graph('wordsdetail_graph.pkl')\n",
    "start_word = 'ROAN'\n",
    "end_word = 'RUES'\n",
    "num_shortest_paths = get_num_shortest_paths(graph, start_word, end_word)\n",
    "num_shortest_paths"
   ]
  }
 ],
 "metadata": {
  "kernelspec": {
   "display_name": "Python 3",
   "language": "python",
   "name": "python3"
  },
  "language_info": {
   "codemirror_mode": {
    "name": "ipython",
    "version": 3
   },
   "file_extension": ".py",
   "mimetype": "text/x-python",
   "name": "python",
   "nbconvert_exporter": "python",
   "pygments_lexer": "ipython3",
   "version": "3.9.0"
  }
 },
 "nbformat": 4,
 "nbformat_minor": 2
}
